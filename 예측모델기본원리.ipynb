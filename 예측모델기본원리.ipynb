{
 "cells": [
  {
   "cell_type": "code",
   "execution_count": 2,
   "metadata": {},
   "outputs": [],
   "source": [
    "import tensorflow as tf\n",
    "import pandas as pd\n",
    "import numpy as np"
   ]
  },
  {
   "cell_type": "code",
   "execution_count": 3,
   "metadata": {},
   "outputs": [
    {
     "data": {
      "text/plain": [
       "array([[ 2, 81],\n",
       "       [ 4, 93],\n",
       "       [ 6, 91],\n",
       "       [ 8, 97]])"
      ]
     },
     "execution_count": 3,
     "metadata": {},
     "output_type": "execute_result"
    }
   ],
   "source": [
    "# study_time = [2,4,6,8]\n",
    "# score = [81,93,91,97]\n",
    "np.array([[2,81],[4,93],[6,91],[8,97]])"
   ]
  },
  {
   "cell_type": "code",
   "execution_count": 4,
   "metadata": {},
   "outputs": [],
   "source": [
    "X_y = np.array([[2,81],[4,93],[6,91],[8,97]])"
   ]
  },
  {
   "cell_type": "code",
   "execution_count": 5,
   "metadata": {},
   "outputs": [
    {
     "data": {
      "text/plain": [
       "array([2, 4, 6, 8])"
      ]
     },
     "execution_count": 5,
     "metadata": {},
     "output_type": "execute_result"
    }
   ],
   "source": [
    "X_y[:,0]"
   ]
  },
  {
   "cell_type": "code",
   "execution_count": 6,
   "metadata": {},
   "outputs": [],
   "source": [
    "study_mean = X_y[:,0].mean()"
   ]
  },
  {
   "cell_type": "code",
   "execution_count": 7,
   "metadata": {},
   "outputs": [],
   "source": [
    "score_mean = X_y[:,1].mean()"
   ]
  },
  {
   "cell_type": "code",
   "execution_count": 10,
   "metadata": {},
   "outputs": [
    {
     "data": {
      "text/plain": [
       "array([-3., -1.,  1.,  3.])"
      ]
     },
     "execution_count": 10,
     "metadata": {},
     "output_type": "execute_result"
    }
   ],
   "source": [
    "#  x 편차\n",
    "X_y[:,0] - study_mean"
   ]
  },
  {
   "cell_type": "code",
   "execution_count": 12,
   "metadata": {},
   "outputs": [
    {
     "data": {
      "text/plain": [
       "array([-9.5,  2.5,  0.5,  6.5])"
      ]
     },
     "execution_count": 12,
     "metadata": {},
     "output_type": "execute_result"
    }
   ],
   "source": [
    "# y 편차\n",
    "X_y[:,1] - score_mean"
   ]
  },
  {
   "cell_type": "code",
   "execution_count": 13,
   "metadata": {},
   "outputs": [
    {
     "data": {
      "text/plain": [
       "array([28.5, -2.5,  0.5, 19.5])"
      ]
     },
     "execution_count": 13,
     "metadata": {},
     "output_type": "execute_result"
    }
   ],
   "source": [
    "(X_y[:,0] - study_mean ) * (X_y[:,1] - score_mean)"
   ]
  },
  {
   "cell_type": "code",
   "execution_count": 14,
   "metadata": {},
   "outputs": [
    {
     "data": {
      "text/plain": [
       "46.0"
      ]
     },
     "execution_count": 14,
     "metadata": {},
     "output_type": "execute_result"
    }
   ],
   "source": [
    "sum((X_y[:,0] - study_mean ) * (X_y[:,1] - score_mean))"
   ]
  },
  {
   "cell_type": "code",
   "execution_count": 17,
   "metadata": {},
   "outputs": [],
   "source": [
    "#  기울기\n",
    "a = sum((X_y[:,0] - study_mean ) * (X_y[:,1] - score_mean)) / \\\n",
    " sum((X_y[:,0] - study_mean)**2)"
   ]
  },
  {
   "cell_type": "code",
   "execution_count": 18,
   "metadata": {},
   "outputs": [
    {
     "data": {
      "text/plain": [
       "2.3"
      ]
     },
     "execution_count": 18,
     "metadata": {},
     "output_type": "execute_result"
    }
   ],
   "source": [
    "a"
   ]
  },
  {
   "cell_type": "code",
   "execution_count": 21,
   "metadata": {},
   "outputs": [],
   "source": [
    "intercept = score_mean - (study_mean *a)"
   ]
  },
  {
   "cell_type": "code",
   "execution_count": 22,
   "metadata": {},
   "outputs": [
    {
     "data": {
      "text/plain": [
       "79.0"
      ]
     },
     "execution_count": 22,
     "metadata": {},
     "output_type": "execute_result"
    }
   ],
   "source": [
    "intercept"
   ]
  },
  {
   "cell_type": "code",
   "execution_count": 23,
   "metadata": {},
   "outputs": [],
   "source": [
    "# 회귀모델\n",
    "# y = 2.3*x + 79"
   ]
  },
  {
   "cell_type": "code",
   "execution_count": 45,
   "metadata": {},
   "outputs": [],
   "source": [
    "#  평균 제곱 오차\n",
    "fake_a = 3\n",
    "fake_b = 76"
   ]
  },
  {
   "cell_type": "code",
   "execution_count": 46,
   "metadata": {},
   "outputs": [],
   "source": [
    "def predict(x):\n",
    "    return fake_a * x + fake_b"
   ]
  },
  {
   "cell_type": "code",
   "execution_count": 47,
   "metadata": {},
   "outputs": [],
   "source": [
    "predict_result = []"
   ]
  },
  {
   "cell_type": "code",
   "execution_count": 48,
   "metadata": {},
   "outputs": [],
   "source": [
    "x = np.array([2,4,6,8])\n",
    "y = np.array([81,93,91,97])"
   ]
  },
  {
   "cell_type": "code",
   "execution_count": 49,
   "metadata": {},
   "outputs": [
    {
     "name": "stdout",
     "output_type": "stream",
     "text": [
      "공부시간=2.00, 실제점수=81.00, 예측점수=82.00,\n",
      "공부시간=4.00, 실제점수=93.00, 예측점수=88.00,\n",
      "공부시간=6.00, 실제점수=91.00, 예측점수=94.00,\n",
      "공부시간=8.00, 실제점수=97.00, 예측점수=100.00,\n"
     ]
    }
   ],
   "source": [
    "for i in range(len(x)):\n",
    "    predict_result.append(predict(x[i]))\n",
    "    print(\"공부시간=%.2f, 실제점수=%.2f, 예측점수=%.2f,\" %(x[i], y[i], predict(x[i])))"
   ]
  },
  {
   "cell_type": "code",
   "execution_count": 50,
   "metadata": {},
   "outputs": [],
   "source": [
    "n = len(x)\n",
    "def mse(y,y_pred):\n",
    "    return(1/n)*sum((y-y_pred)**2)"
   ]
  },
  {
   "cell_type": "code",
   "execution_count": 51,
   "metadata": {},
   "outputs": [
    {
     "name": "stdout",
     "output_type": "stream",
     "text": [
      "평균 제곱 오차: 11.0\n"
     ]
    }
   ],
   "source": [
    "print(\"평균 제곱 오차: \"+ str(mse(y, predict_result)))"
   ]
  },
  {
   "cell_type": "code",
   "execution_count": 52,
   "metadata": {},
   "outputs": [],
   "source": [
    "import sympy as sp"
   ]
  },
  {
   "cell_type": "code",
   "execution_count": 54,
   "metadata": {},
   "outputs": [],
   "source": [
    "a, x, b = sp.symbols(\"a x b\")"
   ]
  },
  {
   "cell_type": "code",
   "execution_count": 56,
   "metadata": {},
   "outputs": [],
   "source": [
    "y =  (a*x+b)**2"
   ]
  },
  {
   "cell_type": "code",
   "execution_count": 64,
   "metadata": {},
   "outputs": [
    {
     "data": {
      "text/latex": [
       "$\\displaystyle a^{2} x^{2} + 2 a b x + b^{2}$"
      ],
      "text/plain": [
       "a**2*x**2 + 2*a*b*x + b**2"
      ]
     },
     "execution_count": 64,
     "metadata": {},
     "output_type": "execute_result"
    }
   ],
   "source": [
    "y.expand()    # 전개"
   ]
  },
  {
   "cell_type": "code",
   "execution_count": 65,
   "metadata": {},
   "outputs": [
    {
     "data": {
      "text/latex": [
       "$\\displaystyle 2 x \\left(a x + b\\right)$"
      ],
      "text/plain": [
       "2*x*(a*x + b)"
      ]
     },
     "execution_count": 65,
     "metadata": {},
     "output_type": "execute_result"
    }
   ],
   "source": [
    "sp.diff(y,a)    # a에 대해 미분"
   ]
  },
  {
   "cell_type": "code",
   "execution_count": 66,
   "metadata": {},
   "outputs": [
    {
     "data": {
      "text/latex": [
       "$\\displaystyle 2 a x + 2 b$"
      ],
      "text/plain": [
       "2*a*x + 2*b"
      ]
     },
     "execution_count": 66,
     "metadata": {},
     "output_type": "execute_result"
    }
   ],
   "source": [
    "sp.diff(y,b)  # y에 대해 미분"
   ]
  },
  {
   "cell_type": "code",
   "execution_count": 68,
   "metadata": {},
   "outputs": [],
   "source": [
    "x = np.array([2,4,6,8])\n",
    "y = np.array([81,93,91,97])"
   ]
  },
  {
   "cell_type": "code",
   "execution_count": 69,
   "metadata": {},
   "outputs": [],
   "source": [
    "import matplotlib.pyplot as plt"
   ]
  },
  {
   "cell_type": "code",
   "execution_count": 70,
   "metadata": {},
   "outputs": [
    {
     "data": {
      "text/plain": [
       "[]"
      ]
     },
     "execution_count": 70,
     "metadata": {},
     "output_type": "execute_result"
    },
    {
     "data": {
      "image/png": "[encoded data removed]",
      "text/plain": [
       "<Figure size 640x480 with 1 Axes>"
      ]
     },
     "metadata": {},
     "output_type": "display_data"
    }
   ],
   "source": [
    "plt.plot(x,y,\"or\")\n",
    "plt.plot()"
   ]
  },
  {
   "cell_type": "code",
   "execution_count": 72,
   "metadata": {},
   "outputs": [
    {
     "data": {
      "text/plain": [
       "[]"
      ]
     },
     "execution_count": 72,
     "metadata": {},
     "output_type": "execute_result"
    },
    {
     "data": {
      "image/png": "[encoded data removed]",
      "text/plain": [
       "<Figure size 640x480 with 1 Axes>"
      ]
     },
     "metadata": {},
     "output_type": "display_data"
    }
   ],
   "source": [
    "plt.scatter(x,y)\n",
    "plt.plot()"
   ]
  },
  {
   "cell_type": "code",
   "execution_count": 73,
   "metadata": {},
   "outputs": [],
   "source": [
    "# 매개변수(parameter, weight) 초기화"
   ]
  },
  {
   "cell_type": "code",
   "execution_count": 74,
   "metadata": {},
   "outputs": [],
   "source": [
    "a,b = 0,0"
   ]
  },
  {
   "cell_type": "code",
   "execution_count": 75,
   "metadata": {},
   "outputs": [],
   "source": [
    "learning_rate = 0.03   # 학습률"
   ]
  },
  {
   "cell_type": "code",
   "execution_count": 76,
   "metadata": {},
   "outputs": [],
   "source": [
    "epochs = 2001"
   ]
  },
  {
   "cell_type": "code",
   "execution_count": 77,
   "metadata": {},
   "outputs": [],
   "source": [
    "n = len(x)"
   ]
  },
  {
   "cell_type": "code",
   "execution_count": 78,
   "metadata": {},
   "outputs": [
    {
     "name": "stdout",
     "output_type": "stream",
     "text": [
      "epoch=0, 기울기=27.8400, 절편=5.4\n",
      "epoch=100, 기울기=7.0739, 절편=50.5\n",
      "epoch=200, 기울기=4.0960, 절편=68.3\n",
      "epoch=300, 기울기=2.9757, 절편=75.0\n",
      "epoch=400, 기울기=2.5542, 절편=77.5\n",
      "epoch=500, 기울기=2.3956, 절편=78.4\n",
      "epoch=600, 기울기=2.3360, 절편=78.8\n",
      "epoch=700, 기울기=2.3135, 절편=78.9\n",
      "epoch=800, 기울기=2.3051, 절편=79.0\n",
      "epoch=900, 기울기=2.3019, 절편=79.0\n",
      "epoch=1000, 기울기=2.3007, 절편=79.0\n",
      "epoch=1100, 기울기=2.3003, 절편=79.0\n",
      "epoch=1200, 기울기=2.3001, 절편=79.0\n",
      "epoch=1300, 기울기=2.3000, 절편=79.0\n",
      "epoch=1400, 기울기=2.3000, 절편=79.0\n",
      "epoch=1500, 기울기=2.3000, 절편=79.0\n",
      "epoch=1600, 기울기=2.3000, 절편=79.0\n",
      "epoch=1700, 기울기=2.3000, 절편=79.0\n",
      "epoch=1800, 기울기=2.3000, 절편=79.0\n",
      "epoch=1900, 기울기=2.3000, 절편=79.0\n",
      "epoch=2000, 기울기=2.3000, 절편=79.0\n"
     ]
    }
   ],
   "source": [
    "for i in range(epochs):\n",
    "    y_pred = a*x+b\n",
    "    error = y-y_pred\n",
    "\n",
    "    a_diff = (2/n)*sum(-x*(error))\n",
    "    b_diff = (2/n)*sum(-(error))\n",
    "\n",
    "    a = a-learning_rate*a_diff\n",
    "    b = b-learning_rate*b_diff\n",
    "\n",
    "    if i % 100 == 0:\n",
    "        print(\"epoch=%.f, 기울기=%.04f, 절편=%.01f\" %(i,a,b))"
   ]
  },
  {
   "cell_type": "code",
   "execution_count": 79,
   "metadata": {},
   "outputs": [
    {
     "data": {
      "image/png": "[encoded data removed]",
      "text/plain": [
       "<Figure size 640x480 with 1 Axes>"
      ]
     },
     "metadata": {},
     "output_type": "display_data"
    }
   ],
   "source": [
    "plt.scatter(x,y)\n",
    "plt.plot(x,y_pred,\"r\")\n",
    "plt.show()"
   ]
  },
  {
   "cell_type": "markdown",
   "metadata": {},
   "source": [
    "## 다중 선형 회귀"
   ]
  },
  {
   "cell_type": "code",
   "execution_count": 7,
   "metadata": {},
   "outputs": [],
   "source": [
    "import numpy as np"
   ]
  },
  {
   "cell_type": "code",
   "execution_count": 2,
   "metadata": {},
   "outputs": [],
   "source": [
    "x1 = np.array([2,4,6,8])\n",
    "x2 = np.array([0,4,2,3])\n",
    "y = np.array([81,93,91,97])"
   ]
  },
  {
   "cell_type": "code",
   "execution_count": 26,
   "metadata": {},
   "outputs": [],
   "source": [
    "import matplotlib.pyplot as plt\n",
    "from matplotlib import font_manager, rc\n",
    "import matplotlib.font_manager as fm\n",
    "plt.rcParams['font.family'] = 'Malgun Gothic'"
   ]
  },
  {
   "cell_type": "code",
   "execution_count": 27,
   "metadata": {},
   "outputs": [
    {
     "data": {
      "image/png": "[encoded data removed]",
      "text/plain": [
       "<Figure size 640x480 with 1 Axes>"
      ]
     },
     "metadata": {},
     "output_type": "display_data"
    }
   ],
   "source": [
    "x1 = np.array([2,4,6,8])\n",
    "x2 = np.array([0,4,2,3])\n",
    "y = np.array([81,93,91,97])\n",
    "fig = plt.figure()\n",
    "ax = fig.add_subplot(111,projection='3d')\n",
    "ax.scatter3D(x1,x2,y)\n",
    "ax.set_xlabel('공부한 시간')\n",
    "ax.set_ylabel('과외수업횟수')\n",
    "ax.set_zlabel('성적')\n",
    "plt.rcParams['axes.unicode_minus'] = False # 음수 기호 표시 문제 해결\n",
    "plt.show()"
   ]
  },
  {
   "cell_type": "code",
   "execution_count": 30,
   "metadata": {},
   "outputs": [],
   "source": [
    "a1,a2,b = 0,0,0"
   ]
  },
  {
   "cell_type": "code",
   "execution_count": 32,
   "metadata": {},
   "outputs": [],
   "source": [
    "y_pred = a1*x1 + a2*x2 +b"
   ]
  },
  {
   "cell_type": "code",
   "execution_count": 33,
   "metadata": {},
   "outputs": [],
   "source": [
    "error = y-y_pred"
   ]
  },
  {
   "cell_type": "code",
   "execution_count": 35,
   "metadata": {},
   "outputs": [],
   "source": [
    "n = len(x1)\n",
    "a1_diff = (2/n)*sum(-x1*(error))\n",
    "a2_diff = (2/n)*sum(-x2*(error))\n",
    "b_diff = (2/n)*sum(-(error))"
   ]
  },
  {
   "cell_type": "code",
   "execution_count": 37,
   "metadata": {},
   "outputs": [],
   "source": [
    "learning_rate = 0.03 # 학습률(에타)"
   ]
  },
  {
   "cell_type": "code",
   "execution_count": 39,
   "metadata": {},
   "outputs": [],
   "source": [
    "# a1 = a1 - learning_rate * a1_diff\n",
    "# a2 = a2 - learning_rate * a2_diff\n",
    "# b = b - learning_rate * b_diff"
   ]
  },
  {
   "cell_type": "code",
   "execution_count": 40,
   "metadata": {},
   "outputs": [],
   "source": [
    "epochs = 2001"
   ]
  },
  {
   "cell_type": "code",
   "execution_count": 43,
   "metadata": {},
   "outputs": [
    {
     "name": "stdout",
     "output_type": "stream",
     "text": [
      "epochs = 0, 기울기1 = 9.2800, 기울기2 = 4.2250, 절편 = 1.8100\n",
      "epochs = 100, 기울기1 = 9.5110, 기울기2 = 5.0270, 절편 = 22.9205\n",
      "epochs = 200, 기울기1 = 7.3238, 기울기2 = 4.2950, 절편 = 37.8751\n",
      "epochs = 300, 기울기1 = 5.7381, 기울기2 = 3.7489, 절편 = 48.7589\n",
      "epochs = 400, 기울기1 = 4.5844, 기울기2 = 3.3507, 절편 = 56.6800\n",
      "epochs = 500, 기울기1 = 3.7447, 기울기2 = 3.0608, 절편 = 62.4448\n",
      "epochs = 600, 기울기1 = 3.1337, 기울기2 = 2.8498, 절편 = 66.6404\n",
      "epochs = 700, 기울기1 = 2.6890, 기울기2 = 2.6962, 절편 = 69.6938\n",
      "epochs = 800, 기울기1 = 2.3653, 기울기2 = 2.5845, 절편 = 71.9160\n",
      "epochs = 900, 기울기1 = 2.1297, 기울기2 = 2.5032, 절편 = 73.5333\n",
      "epochs = 1000, 기울기1 = 1.9583, 기울기2 = 2.4440, 절편 = 74.7103\n",
      "epochs = 1100, 기울기1 = 1.8336, 기울기2 = 2.4009, 절편 = 75.5670\n",
      "epochs = 1200, 기울기1 = 1.7428, 기울기2 = 2.3695, 절편 = 76.1904\n",
      "epochs = 1300, 기울기1 = 1.6767, 기울기2 = 2.3467, 절편 = 76.6441\n",
      "epochs = 1400, 기울기1 = 1.6286, 기울기2 = 2.3301, 절편 = 76.9743\n",
      "epochs = 1500, 기울기1 = 1.5936, 기울기2 = 2.3180, 절편 = 77.2146\n",
      "epochs = 1600, 기울기1 = 1.5681, 기울기2 = 2.3092, 절편 = 77.3895\n",
      "epochs = 1700, 기울기1 = 1.5496, 기울기2 = 2.3028, 절편 = 77.5168\n",
      "epochs = 1800, 기울기1 = 1.5361, 기울기2 = 2.2982, 절편 = 77.6095\n",
      "epochs = 1900, 기울기1 = 1.5263, 기울기2 = 2.2948, 절편 = 77.6769\n",
      "epochs = 2000, 기울기1 = 1.5191, 기울기2 = 2.2923, 절편 = 77.7260\n"
     ]
    }
   ],
   "source": [
    "# 다중회귀 \n",
    "\n",
    "x1 = np.array([2,4,6,8])\n",
    "x2 = np.array([0,4,2,3])\n",
    "y = np.array([81,93,91,97])\n",
    "\n",
    "a1,a2,b = 0,0,0\n",
    "\n",
    "epochs = 2001\n",
    "\n",
    "learning_rate = 0.01\n",
    "\n",
    "n = len(x1)\n",
    "\n",
    "for i in range(epochs):\n",
    "    y_pred = a1*x1 + a2*x2 +b\n",
    "    error = y - y_pred\n",
    "    a1_diff = (2/n)*sum(-x1*(error))\n",
    "    a2_diff = (2/n)*sum(-x2*(error))\n",
    "    b_diff = (2/n)*sum(-(error))\n",
    "\n",
    "    a1 = a1 - learning_rate * a1_diff\n",
    "    a2 = a2 - learning_rate * a2_diff\n",
    "    b = b - learning_rate * b_diff\n",
    "\n",
    "    if i % 100 == 0:\n",
    "        print('epochs = %.f, 기울기1 = %.04f, 기울기2 = %.04f, 절편 = %.04f' %(i,a1,a2,b))"
   ]
  },
  {
   "cell_type": "code",
   "execution_count": 46,
   "metadata": {},
   "outputs": [
    {
     "name": "stdout",
     "output_type": "stream",
     "text": [
      "epochs = 0, 기울기1 = 9.2800, 기울기2 = 4.2250, 절편 = 1.8100\n",
      "epochs = 100, 기울기1 = 9.5110, 기울기2 = 5.0270, 절편 = 22.9205\n",
      "epochs = 200, 기울기1 = 7.3238, 기울기2 = 4.2950, 절편 = 37.8751\n",
      "epochs = 300, 기울기1 = 5.7381, 기울기2 = 3.7489, 절편 = 48.7589\n",
      "epochs = 400, 기울기1 = 4.5844, 기울기2 = 3.3507, 절편 = 56.6800\n",
      "epochs = 500, 기울기1 = 3.7447, 기울기2 = 3.0608, 절편 = 62.4448\n",
      "epochs = 600, 기울기1 = 3.1337, 기울기2 = 2.8498, 절편 = 66.6404\n",
      "epochs = 700, 기울기1 = 2.6890, 기울기2 = 2.6962, 절편 = 69.6938\n",
      "epochs = 800, 기울기1 = 2.3653, 기울기2 = 2.5845, 절편 = 71.9160\n",
      "epochs = 900, 기울기1 = 2.1297, 기울기2 = 2.5032, 절편 = 73.5333\n",
      "epochs = 1000, 기울기1 = 1.9583, 기울기2 = 2.4440, 절편 = 74.7103\n",
      "epochs = 1100, 기울기1 = 1.8336, 기울기2 = 2.4009, 절편 = 75.5670\n",
      "epochs = 1200, 기울기1 = 1.7428, 기울기2 = 2.3695, 절편 = 76.1904\n",
      "epochs = 1300, 기울기1 = 1.6767, 기울기2 = 2.3467, 절편 = 76.6441\n",
      "epochs = 1400, 기울기1 = 1.6286, 기울기2 = 2.3301, 절편 = 76.9743\n",
      "epochs = 1500, 기울기1 = 1.5936, 기울기2 = 2.3180, 절편 = 77.2146\n",
      "epochs = 1600, 기울기1 = 1.5681, 기울기2 = 2.3092, 절편 = 77.3895\n",
      "epochs = 1700, 기울기1 = 1.5496, 기울기2 = 2.3028, 절편 = 77.5168\n",
      "epochs = 1800, 기울기1 = 1.5361, 기울기2 = 2.2982, 절편 = 77.6095\n",
      "epochs = 1900, 기울기1 = 1.5263, 기울기2 = 2.2948, 절편 = 77.6769\n",
      "epochs = 2000, 기울기1 = 1.5191, 기울기2 = 2.2923, 절편 = 77.7260\n",
      "epochs = 2100, 기울기1 = 1.5139, 기울기2 = 2.2905, 절편 = 77.7617\n",
      "epochs = 2200, 기울기1 = 1.5101, 기울기2 = 2.2892, 절편 = 77.7877\n",
      "epochs = 2300, 기울기1 = 1.5074, 기울기2 = 2.2883, 절편 = 77.8066\n",
      "epochs = 2400, 기울기1 = 1.5054, 기울기2 = 2.2876, 절편 = 77.8203\n",
      "epochs = 2500, 기울기1 = 1.5039, 기울기2 = 2.2871, 절편 = 77.8304\n",
      "epochs = 2600, 기울기1 = 1.5028, 기울기2 = 2.2867, 절편 = 77.8376\n",
      "epochs = 2700, 기울기1 = 1.5021, 기울기2 = 2.2864, 절편 = 77.8430\n",
      "epochs = 2800, 기울기1 = 1.5015, 기울기2 = 2.2862, 절편 = 77.8468\n",
      "epochs = 2900, 기울기1 = 1.5011, 기울기2 = 2.2861, 절편 = 77.8496\n",
      "epochs = 3000, 기울기1 = 1.5008, 기울기2 = 2.2860, 절편 = 77.8517\n"
     ]
    }
   ],
   "source": [
    "# 다중회귀 \n",
    "\n",
    "x1 = np.array([2,4,6,8])\n",
    "x2 = np.array([0,4,2,3])\n",
    "y = np.array([81,93,91,97])\n",
    "\n",
    "a1,a2,b = 0,0,0\n",
    "\n",
    "epochs = 3001\n",
    "\n",
    "learning_rate = 0.01\n",
    "\n",
    "n = len(x1)\n",
    "\n",
    "for i in range(epochs):\n",
    "    y_pred = a1*x1 + a2*x2 +b\n",
    "    error = y - y_pred\n",
    "    a1_diff = (2/n)*sum(-x1*(error))\n",
    "    a2_diff = (2/n)*sum(-x2*(error))\n",
    "    b_diff = (2/n)*sum(-(error))\n",
    "\n",
    "    a1 = a1 - learning_rate * a1_diff\n",
    "    a2 = a2 - learning_rate * a2_diff\n",
    "    b = b - learning_rate * b_diff\n",
    "\n",
    "    if i % 100 == 0:\n",
    "        print('epochs = %.f, 기울기1 = %.04f, 기울기2 = %.04f, 절편 = %.04f' %(i,a1,a2,b))"
   ]
  },
  {
   "cell_type": "code",
   "execution_count": 47,
   "metadata": {},
   "outputs": [
    {
     "name": "stdout",
     "output_type": "stream",
     "text": [
      "epochs = 0, 기울기1 = 9.2800, 기울기2 = 4.2250, 절편 = 1.8100\n",
      "epochs = 100, 기울기1 = 9.5110, 기울기2 = 5.0270, 절편 = 22.9205\n",
      "epochs = 200, 기울기1 = 7.3238, 기울기2 = 4.2950, 절편 = 37.8751\n",
      "epochs = 300, 기울기1 = 5.7381, 기울기2 = 3.7489, 절편 = 48.7589\n",
      "epochs = 400, 기울기1 = 4.5844, 기울기2 = 3.3507, 절편 = 56.6800\n",
      "epochs = 500, 기울기1 = 3.7447, 기울기2 = 3.0608, 절편 = 62.4448\n",
      "epochs = 600, 기울기1 = 3.1337, 기울기2 = 2.8498, 절편 = 66.6404\n",
      "epochs = 700, 기울기1 = 2.6890, 기울기2 = 2.6962, 절편 = 69.6938\n",
      "epochs = 800, 기울기1 = 2.3653, 기울기2 = 2.5845, 절편 = 71.9160\n",
      "epochs = 900, 기울기1 = 2.1297, 기울기2 = 2.5032, 절편 = 73.5333\n",
      "epochs = 1000, 기울기1 = 1.9583, 기울기2 = 2.4440, 절편 = 74.7103\n",
      "epochs = 1100, 기울기1 = 1.8336, 기울기2 = 2.4009, 절편 = 75.5670\n",
      "epochs = 1200, 기울기1 = 1.7428, 기울기2 = 2.3695, 절편 = 76.1904\n",
      "epochs = 1300, 기울기1 = 1.6767, 기울기2 = 2.3467, 절편 = 76.6441\n",
      "epochs = 1400, 기울기1 = 1.6286, 기울기2 = 2.3301, 절편 = 76.9743\n",
      "epochs = 1500, 기울기1 = 1.5936, 기울기2 = 2.3180, 절편 = 77.2146\n",
      "epochs = 1600, 기울기1 = 1.5681, 기울기2 = 2.3092, 절편 = 77.3895\n",
      "epochs = 1700, 기울기1 = 1.5496, 기울기2 = 2.3028, 절편 = 77.5168\n",
      "epochs = 1800, 기울기1 = 1.5361, 기울기2 = 2.2982, 절편 = 77.6095\n",
      "epochs = 1900, 기울기1 = 1.5263, 기울기2 = 2.2948, 절편 = 77.6769\n",
      "epochs = 2000, 기울기1 = 1.5191, 기울기2 = 2.2923, 절편 = 77.7260\n",
      "epochs = 2100, 기울기1 = 1.5139, 기울기2 = 2.2905, 절편 = 77.7617\n",
      "epochs = 2200, 기울기1 = 1.5101, 기울기2 = 2.2892, 절편 = 77.7877\n",
      "epochs = 2300, 기울기1 = 1.5074, 기울기2 = 2.2883, 절편 = 77.8066\n",
      "epochs = 2400, 기울기1 = 1.5054, 기울기2 = 2.2876, 절편 = 77.8203\n",
      "epochs = 2500, 기울기1 = 1.5039, 기울기2 = 2.2871, 절편 = 77.8304\n",
      "epochs = 2600, 기울기1 = 1.5028, 기울기2 = 2.2867, 절편 = 77.8376\n",
      "epochs = 2700, 기울기1 = 1.5021, 기울기2 = 2.2864, 절편 = 77.8430\n",
      "epochs = 2800, 기울기1 = 1.5015, 기울기2 = 2.2862, 절편 = 77.8468\n",
      "epochs = 2900, 기울기1 = 1.5011, 기울기2 = 2.2861, 절편 = 77.8496\n",
      "epochs = 3000, 기울기1 = 1.5008, 기울기2 = 2.2860, 절편 = 77.8517\n",
      "epochs = 3100, 기울기1 = 1.5006, 기울기2 = 2.2859, 절편 = 77.8532\n",
      "epochs = 3200, 기울기1 = 1.5004, 기울기2 = 2.2859, 절편 = 77.8542\n",
      "epochs = 3300, 기울기1 = 1.5003, 기울기2 = 2.2858, 절편 = 77.8550\n",
      "epochs = 3400, 기울기1 = 1.5002, 기울기2 = 2.2858, 절편 = 77.8556\n",
      "epochs = 3500, 기울기1 = 1.5002, 기울기2 = 2.2858, 절편 = 77.8560\n",
      "epochs = 3600, 기울기1 = 1.5001, 기울기2 = 2.2858, 절편 = 77.8563\n",
      "epochs = 3700, 기울기1 = 1.5001, 기울기2 = 2.2857, 절편 = 77.8566\n",
      "epochs = 3800, 기울기1 = 1.5001, 기울기2 = 2.2857, 절편 = 77.8567\n",
      "epochs = 3900, 기울기1 = 1.5000, 기울기2 = 2.2857, 절편 = 77.8568\n",
      "epochs = 4000, 기울기1 = 1.5000, 기울기2 = 2.2857, 절편 = 77.8569\n",
      "epochs = 4100, 기울기1 = 1.5000, 기울기2 = 2.2857, 절편 = 77.8570\n",
      "epochs = 4200, 기울기1 = 1.5000, 기울기2 = 2.2857, 절편 = 77.8570\n",
      "epochs = 4300, 기울기1 = 1.5000, 기울기2 = 2.2857, 절편 = 77.8571\n",
      "epochs = 4400, 기울기1 = 1.5000, 기울기2 = 2.2857, 절편 = 77.8571\n",
      "epochs = 4500, 기울기1 = 1.5000, 기울기2 = 2.2857, 절편 = 77.8571\n",
      "epochs = 4600, 기울기1 = 1.5000, 기울기2 = 2.2857, 절편 = 77.8571\n",
      "epochs = 4700, 기울기1 = 1.5000, 기울기2 = 2.2857, 절편 = 77.8571\n",
      "epochs = 4800, 기울기1 = 1.5000, 기울기2 = 2.2857, 절편 = 77.8571\n",
      "epochs = 4900, 기울기1 = 1.5000, 기울기2 = 2.2857, 절편 = 77.8571\n",
      "epochs = 5000, 기울기1 = 1.5000, 기울기2 = 2.2857, 절편 = 77.8571\n"
     ]
    }
   ],
   "source": [
    "# 다중회귀 \n",
    "\n",
    "x1 = np.array([2,4,6,8])\n",
    "x2 = np.array([0,4,2,3])\n",
    "y = np.array([81,93,91,97])\n",
    "\n",
    "a1,a2,b = 0,0,0\n",
    "\n",
    "epochs = 5001\n",
    "\n",
    "learning_rate = 0.01\n",
    "\n",
    "n = len(x1)\n",
    "\n",
    "for i in range(epochs):\n",
    "    y_pred = a1*x1 + a2*x2 +b\n",
    "    error = y - y_pred\n",
    "    a1_diff = (2/n)*sum(-x1*(error))\n",
    "    a2_diff = (2/n)*sum(-x2*(error))\n",
    "    b_diff = (2/n)*sum(-(error))\n",
    "\n",
    "    a1 = a1 - learning_rate * a1_diff\n",
    "    a2 = a2 - learning_rate * a2_diff\n",
    "    b = b - learning_rate * b_diff\n",
    "\n",
    "    if i % 100 == 0:\n",
    "        print('epochs = %.f, 기울기1 = %.04f, 기울기2 = %.04f, 절편 = %.04f' %(i,a1,a2,b))"
   ]
  },
  {
   "cell_type": "code",
   "execution_count": 48,
   "metadata": {},
   "outputs": [],
   "source": [
    "# 계속해서 회귀 모델을 돌이면서 나온 결과\n",
    "# y = 1.5*x1 + 2.2857*x2 + 77.8571    "
   ]
  },
  {
   "cell_type": "code",
   "execution_count": 49,
   "metadata": {},
   "outputs": [],
   "source": [
    "# R에서 보는 회귀 모델"
   ]
  },
  {
   "attachments": {
    "image.png": {
     "image/png": "[encoded data removed]"
    }
   },
   "cell_type": "markdown",
   "metadata": {},
   "source": [
    "![image.png](attachment:image.png)"
   ]
  },
  {
   "attachments": {
    "image.png": {
     "image/png": "[encoded data removed]"
    }
   },
   "cell_type": "markdown",
   "metadata": {},
   "source": [
    "![image.png](attachment:image.png)"
   ]
  },
  {
   "attachments": {
    "image.png": {
     "image/png": "[encoded data removed]"
    }
   },
   "cell_type": "markdown",
   "metadata": {},
   "source": [
    "![image.png](attachment:image.png)"
   ]
  },
  {
   "attachments": {
    "image.png": {
     "image/png": "[encoded data removed]"
    }
   },
   "cell_type": "markdown",
   "metadata": {},
   "source": [
    "![image.png](attachment:image.png)"
   ]
  },
  {
   "cell_type": "markdown",
   "metadata": {},
   "source": [
    "## 텐서플로에서 실행하는 선형 회귀, 다중 회귀 모델"
   ]
  },
  {
   "cell_type": "code",
   "execution_count": 51,
   "metadata": {},
   "outputs": [],
   "source": [
    "import numpy as np\n",
    "import matplotlib.pyplot as plt\n",
    "\n",
    "#텐서플로의 케라스 API에서 필요한 함수들을 불러 옵니다.\n",
    "from tensorflow.keras.models import Sequential\n",
    "from tensorflow.keras.layers import Dense"
   ]
  },
  {
   "cell_type": "code",
   "execution_count": 52,
   "metadata": {},
   "outputs": [],
   "source": [
    "x = np.array([2, 4, 6, 8])\n",
    "y = np.array([81, 93, 91, 97]) "
   ]
  },
  {
   "cell_type": "code",
   "execution_count": 53,
   "metadata": {},
   "outputs": [],
   "source": [
    "model = Sequential()"
   ]
  },
  {
   "cell_type": "code",
   "execution_count": null,
   "metadata": {},
   "outputs": [],
   "source": [
    "model.add(Dense())"
   ]
  }
 ],
 "metadata": {
  "kernelspec": {
   "display_name": "mldltest1",
   "language": "python",
   "name": "python3"
  },
  "language_info": {
   "codemirror_mode": {
    "name": "ipython",
    "version": 3
   },
   "file_extension": ".py",
   "mimetype": "text/x-python",
   "name": "python",
   "nbconvert_exporter": "python",
   "pygments_lexer": "ipython3",
   "version": "3.8.19"
  }
 },
 "nbformat": 4,
 "nbformat_minor": 2
}
